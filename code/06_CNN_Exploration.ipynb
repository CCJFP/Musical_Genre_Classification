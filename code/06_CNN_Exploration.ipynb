{
 "cells": [
  {
   "cell_type": "markdown",
   "metadata": {},
   "source": [
    "# CNN Exploration"
   ]
  },
  {
   "cell_type": "code",
   "execution_count": 1,
   "metadata": {},
   "outputs": [
    {
     "name": "stderr",
     "output_type": "stream",
     "text": [
      "Using TensorFlow backend.\n"
     ]
    }
   ],
   "source": [
    "# Imports\n",
    "import os\n",
    "import librosa\n",
    "import pandas as pd\n",
    "import numpy as np\n",
    "import matplotlib.pyplot as plt\n",
    "from sklearn.model_selection import train_test_split\n",
    "from sklearn.metrics import confusion_matrix\n",
    "from tensorflow.python.keras.models import Sequential\n",
    "from tensorflow.python.keras.layers import Dense, Dropout, Flatten, Conv2D, MaxPooling2D\n",
    "from tensorflow.python.keras import utils\n",
    "from keras.utils import to_categorical"
   ]
  },
  {
   "cell_type": "code",
   "execution_count": 2,
   "metadata": {},
   "outputs": [],
   "source": [
    "# Reading in the data\n",
    "mel_specs = pd.read_csv('../data/genre_mel_specs_clean.csv')"
   ]
  },
  {
   "cell_type": "code",
   "execution_count": 3,
   "metadata": {},
   "outputs": [
    {
     "data": {
      "text/html": [
       "<div>\n",
       "<style scoped>\n",
       "    .dataframe tbody tr th:only-of-type {\n",
       "        vertical-align: middle;\n",
       "    }\n",
       "\n",
       "    .dataframe tbody tr th {\n",
       "        vertical-align: top;\n",
       "    }\n",
       "\n",
       "    .dataframe thead th {\n",
       "        text-align: right;\n",
       "    }\n",
       "</style>\n",
       "<table border=\"1\" class=\"dataframe\">\n",
       "  <thead>\n",
       "    <tr style=\"text-align: right;\">\n",
       "      <th></th>\n",
       "      <th>0</th>\n",
       "      <th>1</th>\n",
       "      <th>2</th>\n",
       "      <th>3</th>\n",
       "      <th>4</th>\n",
       "      <th>5</th>\n",
       "      <th>6</th>\n",
       "      <th>7</th>\n",
       "      <th>8</th>\n",
       "      <th>9</th>\n",
       "      <th>...</th>\n",
       "      <th>84472</th>\n",
       "      <th>84473</th>\n",
       "      <th>84474</th>\n",
       "      <th>84475</th>\n",
       "      <th>84476</th>\n",
       "      <th>84477</th>\n",
       "      <th>84478</th>\n",
       "      <th>84479</th>\n",
       "      <th>labels</th>\n",
       "      <th>y</th>\n",
       "    </tr>\n",
       "  </thead>\n",
       "  <tbody>\n",
       "    <tr>\n",
       "      <th>0</th>\n",
       "      <td>-24.185581</td>\n",
       "      <td>-27.340237</td>\n",
       "      <td>-27.214727</td>\n",
       "      <td>-23.694857</td>\n",
       "      <td>-10.349419</td>\n",
       "      <td>-11.817766</td>\n",
       "      <td>-19.678226</td>\n",
       "      <td>-26.396507</td>\n",
       "      <td>-25.827953</td>\n",
       "      <td>-30.779963</td>\n",
       "      <td>...</td>\n",
       "      <td>0.0</td>\n",
       "      <td>0.0</td>\n",
       "      <td>0.0</td>\n",
       "      <td>0.0</td>\n",
       "      <td>0.0</td>\n",
       "      <td>0.0</td>\n",
       "      <td>0.0</td>\n",
       "      <td>0.0</td>\n",
       "      <td>reggae</td>\n",
       "      <td>9</td>\n",
       "    </tr>\n",
       "    <tr>\n",
       "      <th>1</th>\n",
       "      <td>-34.482864</td>\n",
       "      <td>-29.062458</td>\n",
       "      <td>-34.239838</td>\n",
       "      <td>-41.848854</td>\n",
       "      <td>-38.884560</td>\n",
       "      <td>-46.740932</td>\n",
       "      <td>-41.780075</td>\n",
       "      <td>-42.449265</td>\n",
       "      <td>-37.310295</td>\n",
       "      <td>-38.989906</td>\n",
       "      <td>...</td>\n",
       "      <td>0.0</td>\n",
       "      <td>0.0</td>\n",
       "      <td>0.0</td>\n",
       "      <td>0.0</td>\n",
       "      <td>0.0</td>\n",
       "      <td>0.0</td>\n",
       "      <td>0.0</td>\n",
       "      <td>0.0</td>\n",
       "      <td>jazz</td>\n",
       "      <td>6</td>\n",
       "    </tr>\n",
       "    <tr>\n",
       "      <th>2</th>\n",
       "      <td>-31.571878</td>\n",
       "      <td>-38.357210</td>\n",
       "      <td>-37.502674</td>\n",
       "      <td>-32.508842</td>\n",
       "      <td>-22.891088</td>\n",
       "      <td>-28.224280</td>\n",
       "      <td>-33.885254</td>\n",
       "      <td>-35.000267</td>\n",
       "      <td>-35.614574</td>\n",
       "      <td>-36.325577</td>\n",
       "      <td>...</td>\n",
       "      <td>0.0</td>\n",
       "      <td>0.0</td>\n",
       "      <td>0.0</td>\n",
       "      <td>0.0</td>\n",
       "      <td>0.0</td>\n",
       "      <td>0.0</td>\n",
       "      <td>0.0</td>\n",
       "      <td>0.0</td>\n",
       "      <td>disco</td>\n",
       "      <td>4</td>\n",
       "    </tr>\n",
       "    <tr>\n",
       "      <th>3</th>\n",
       "      <td>-38.706380</td>\n",
       "      <td>-58.008110</td>\n",
       "      <td>-51.764940</td>\n",
       "      <td>-48.831757</td>\n",
       "      <td>-54.745650</td>\n",
       "      <td>-56.272590</td>\n",
       "      <td>-52.029984</td>\n",
       "      <td>-54.152860</td>\n",
       "      <td>-57.492695</td>\n",
       "      <td>-55.962650</td>\n",
       "      <td>...</td>\n",
       "      <td>0.0</td>\n",
       "      <td>0.0</td>\n",
       "      <td>0.0</td>\n",
       "      <td>0.0</td>\n",
       "      <td>0.0</td>\n",
       "      <td>0.0</td>\n",
       "      <td>0.0</td>\n",
       "      <td>0.0</td>\n",
       "      <td>jazz</td>\n",
       "      <td>6</td>\n",
       "    </tr>\n",
       "    <tr>\n",
       "      <th>4</th>\n",
       "      <td>-13.395082</td>\n",
       "      <td>-22.886148</td>\n",
       "      <td>-39.371693</td>\n",
       "      <td>-39.873516</td>\n",
       "      <td>-44.111927</td>\n",
       "      <td>-41.430832</td>\n",
       "      <td>-35.432774</td>\n",
       "      <td>-43.907005</td>\n",
       "      <td>-44.259710</td>\n",
       "      <td>-45.559254</td>\n",
       "      <td>...</td>\n",
       "      <td>0.0</td>\n",
       "      <td>0.0</td>\n",
       "      <td>0.0</td>\n",
       "      <td>0.0</td>\n",
       "      <td>0.0</td>\n",
       "      <td>0.0</td>\n",
       "      <td>0.0</td>\n",
       "      <td>0.0</td>\n",
       "      <td>disco</td>\n",
       "      <td>4</td>\n",
       "    </tr>\n",
       "  </tbody>\n",
       "</table>\n",
       "<p>5 rows × 84482 columns</p>\n",
       "</div>"
      ],
      "text/plain": [
       "           0          1          2          3          4          5  \\\n",
       "0 -24.185581 -27.340237 -27.214727 -23.694857 -10.349419 -11.817766   \n",
       "1 -34.482864 -29.062458 -34.239838 -41.848854 -38.884560 -46.740932   \n",
       "2 -31.571878 -38.357210 -37.502674 -32.508842 -22.891088 -28.224280   \n",
       "3 -38.706380 -58.008110 -51.764940 -48.831757 -54.745650 -56.272590   \n",
       "4 -13.395082 -22.886148 -39.371693 -39.873516 -44.111927 -41.430832   \n",
       "\n",
       "           6          7          8          9  ...  84472  84473  84474  \\\n",
       "0 -19.678226 -26.396507 -25.827953 -30.779963  ...    0.0    0.0    0.0   \n",
       "1 -41.780075 -42.449265 -37.310295 -38.989906  ...    0.0    0.0    0.0   \n",
       "2 -33.885254 -35.000267 -35.614574 -36.325577  ...    0.0    0.0    0.0   \n",
       "3 -52.029984 -54.152860 -57.492695 -55.962650  ...    0.0    0.0    0.0   \n",
       "4 -35.432774 -43.907005 -44.259710 -45.559254  ...    0.0    0.0    0.0   \n",
       "\n",
       "   84475  84476  84477  84478  84479  labels  y  \n",
       "0    0.0    0.0    0.0    0.0    0.0  reggae  9  \n",
       "1    0.0    0.0    0.0    0.0    0.0    jazz  6  \n",
       "2    0.0    0.0    0.0    0.0    0.0   disco  4  \n",
       "3    0.0    0.0    0.0    0.0    0.0    jazz  6  \n",
       "4    0.0    0.0    0.0    0.0    0.0   disco  4  \n",
       "\n",
       "[5 rows x 84482 columns]"
      ]
     },
     "execution_count": 3,
     "metadata": {},
     "output_type": "execute_result"
    }
   ],
   "source": [
    "# First 5 rows for reference\n",
    "mel_specs.head()"
   ]
  },
  {
   "cell_type": "markdown",
   "metadata": {},
   "source": [
    "## Data Preprocessing\n",
    "\n",
    "### Function to Get a Subset of the Genres"
   ]
  },
  {
   "cell_type": "code",
   "execution_count": 4,
   "metadata": {},
   "outputs": [],
   "source": [
    "def get_genre_subset(data, genre_subset):\n",
    "    \n",
    "    # Getting the subset of the genres and resetting the index\n",
    "    df = data.loc[data['labels'].isin(genre_subset)]\n",
    "    df = df.reset_index().drop(columns=['index'])\n",
    "    \n",
    "    # Creating a new label dictionary\n",
    "    new_label_dict = {}\n",
    "    for i in range(len(genre_subset)):\n",
    "        new_label_dict[genre_subset[i]] = i\n",
    "    \n",
    "    # Changing labels\n",
    "    df['y'] = df['labels'].map(new_label_dict)\n",
    "\n",
    "    return df"
   ]
  },
  {
   "cell_type": "markdown",
   "metadata": {},
   "source": [
    "### Function to Preprocess the Features and Targets"
   ]
  },
  {
   "cell_type": "code",
   "execution_count": 21,
   "metadata": {},
   "outputs": [],
   "source": [
    "def preprocess_mel_spec_data(data, genre_subset):\n",
    "    \n",
    "    # Getting a subset of the genres using our genre_subset function\n",
    "    subset = get_genre_subset(data, genre_subset)\n",
    "    \n",
    "    # Dropping label columns to prepare our feature vector\n",
    "    specs = subset.drop(columns=['labels', 'y'])\n",
    "    \n",
    "    # Reshaping the arrays to their original \"image\" form\n",
    "    X = []\n",
    "    for i in range(len(genre_subset)*100):\n",
    "        X.append(np.array(specs.iloc[i]).reshape(128,660))\n",
    "        \n",
    "    # Converting list X to an array\n",
    "    X = np.array(X)\n",
    "    \n",
    "    # Defining our targets\n",
    "    y = subset.loc[subset['labels'].isin(genre_subset), 'y'].values\n",
    "    \n",
    "    # train test split\n",
    "    X_train, X_test, y_train, y_test = train_test_split(X, y, random_state=42, stratify=y, test_size=.2)\n",
    "    \n",
    "    # Scaling our data to be between 0 and 1\n",
    "    X_train /= -80\n",
    "    X_test /= -80\n",
    "    \n",
    "    # Reshaping images to be 128 x 660 x 1\n",
    "    X_train = X_train.reshape(X_train.shape[0], 128, 660, 1)\n",
    "    X_test = X_test.reshape(X_test.shape[0], 128, 660, 1)\n",
    "    \n",
    "    # One hot encoding our labels\n",
    "    y_train = to_categorical(y_train, len(genre_subset))\n",
    "    y_test = to_categorical(y_test, len(genre_subset))\n",
    "    \n",
    "    return X_train, X_test, y_train, y_test"
   ]
  },
  {
   "cell_type": "code",
   "execution_count": 6,
   "metadata": {},
   "outputs": [],
   "source": [
    "# List of all the genres\n",
    "genre_list = [ \n",
    "    'jazz',\n",
    "    'reggae',\n",
    "    'rock',\n",
    "    'blues',\n",
    "    'hiphop',\n",
    "    'country',\n",
    "    'metal',\n",
    "    'classical',\n",
    "    'disco',\n",
    "    'pop'\n",
    "]"
   ]
  },
  {
   "cell_type": "code",
   "execution_count": 199,
   "metadata": {},
   "outputs": [],
   "source": [
    "# List of a subset of the genres\n",
    "genre_subset = [\n",
    "    'jazz',\n",
    "    'reggae',\n",
    "    'rock',\n",
    "    'hiphop',\n",
    "    'country',\n",
    "    'metal',\n",
    "    'classical'\n",
    "]"
   ]
  },
  {
   "cell_type": "code",
   "execution_count": 20,
   "metadata": {},
   "outputs": [],
   "source": [
    "# List of a subset of the genres\n",
    "genre_subset_1 = [\n",
    "    'jazz',\n",
    "    'hiphop',\n",
    "    'country',\n",
    "    'metal',\n",
    "    'classical',\n",
    "    'disco',\n",
    "    'pop'\n",
    "]"
   ]
  },
  {
   "cell_type": "code",
   "execution_count": 22,
   "metadata": {},
   "outputs": [],
   "source": [
    "# Using our function to get our features and targets\n",
    "X_train, X_test, y_train, y_test = preprocess_mel_spec_data(mel_specs, genre_subset_1)"
   ]
  },
  {
   "cell_type": "markdown",
   "metadata": {},
   "source": [
    "## CNN"
   ]
  },
  {
   "cell_type": "code",
   "execution_count": 23,
   "metadata": {},
   "outputs": [
    {
     "name": "stdout",
     "output_type": "stream",
     "text": [
      "Train on 560 samples, validate on 140 samples\n",
      "Epoch 1/15\n",
      "560/560 [==============================] - 9s 16ms/sample - loss: 1.8997 - accuracy: 0.2321 - val_loss: 1.6767 - val_accuracy: 0.4786\n",
      "Epoch 2/15\n",
      "560/560 [==============================] - 7s 13ms/sample - loss: 1.5573 - accuracy: 0.3821 - val_loss: 1.2844 - val_accuracy: 0.5143\n",
      "Epoch 3/15\n",
      "560/560 [==============================] - 8s 14ms/sample - loss: 1.2515 - accuracy: 0.5107 - val_loss: 1.0868 - val_accuracy: 0.6143\n",
      "Epoch 4/15\n",
      "560/560 [==============================] - 8s 13ms/sample - loss: 1.0465 - accuracy: 0.5946 - val_loss: 1.0620 - val_accuracy: 0.5786\n",
      "Epoch 5/15\n",
      "560/560 [==============================] - 8s 13ms/sample - loss: 0.8966 - accuracy: 0.6661 - val_loss: 0.8558 - val_accuracy: 0.7143\n",
      "Epoch 6/15\n",
      "560/560 [==============================] - 8s 13ms/sample - loss: 0.7738 - accuracy: 0.7518 - val_loss: 0.7752 - val_accuracy: 0.7143\n",
      "Epoch 7/15\n",
      "560/560 [==============================] - 8s 14ms/sample - loss: 0.7329 - accuracy: 0.7411 - val_loss: 0.8297 - val_accuracy: 0.6929\n",
      "Epoch 8/15\n",
      "560/560 [==============================] - 8s 14ms/sample - loss: 0.5573 - accuracy: 0.8125 - val_loss: 0.6663 - val_accuracy: 0.7857\n",
      "Epoch 9/15\n",
      "560/560 [==============================] - 8s 14ms/sample - loss: 0.4562 - accuracy: 0.8625 - val_loss: 0.7147 - val_accuracy: 0.7643\n",
      "Epoch 10/15\n",
      "560/560 [==============================] - 8s 14ms/sample - loss: 0.4599 - accuracy: 0.8607 - val_loss: 0.6388 - val_accuracy: 0.7500\n",
      "Epoch 11/15\n",
      "560/560 [==============================] - 8s 14ms/sample - loss: 0.3405 - accuracy: 0.8875 - val_loss: 0.7339 - val_accuracy: 0.6857\n",
      "Epoch 12/15\n",
      "560/560 [==============================] - 8s 14ms/sample - loss: 0.2887 - accuracy: 0.9036 - val_loss: 0.6064 - val_accuracy: 0.8286\n",
      "Epoch 13/15\n",
      "560/560 [==============================] - 8s 14ms/sample - loss: 0.2751 - accuracy: 0.9071 - val_loss: 0.6423 - val_accuracy: 0.7714\n",
      "Epoch 14/15\n",
      "560/560 [==============================] - 8s 14ms/sample - loss: 0.2270 - accuracy: 0.9304 - val_loss: 0.7626 - val_accuracy: 0.7714\n",
      "Epoch 15/15\n",
      "560/560 [==============================] - 8s 14ms/sample - loss: 0.2210 - accuracy: 0.9304 - val_loss: 0.5821 - val_accuracy: 0.8143\n"
     ]
    }
   ],
   "source": [
    "np.random.seed(23456)\n",
    "\n",
    "# Initiating an empty neural network\n",
    "cnn_model = Sequential(name='cnn_1')\n",
    "\n",
    "# Adding convolutional layer\n",
    "cnn_model.add(Conv2D(filters=16,\n",
    "                     kernel_size=(3,3),\n",
    "                     activation='relu',\n",
    "                     input_shape=(128,660,1)))\n",
    "\n",
    "# Adding max pooling layer\n",
    "cnn_model.add(MaxPooling2D(pool_size=(2,4)))\n",
    "\n",
    "# Adding convolutional layer\n",
    "cnn_model.add(Conv2D(filters=32,\n",
    "                     kernel_size=(3,3),\n",
    "                     activation='relu'))\n",
    "\n",
    "# Adding max pooling layer\n",
    "cnn_model.add(MaxPooling2D(pool_size=(2,4)))\n",
    "\n",
    "# Adding a flattened layer to input our image data\n",
    "cnn_model.add(Flatten())\n",
    "\n",
    "# Adding a dense layer with 64 neurons\n",
    "cnn_model.add(Dense(64, activation='relu'))\n",
    "\n",
    "# Adding a dropout layer for regularization\n",
    "cnn_model.add(Dropout(0.25))\n",
    "\n",
    "# Adding an output layer\n",
    "cnn_model.add(Dense(7, activation='softmax'))\n",
    "\n",
    "# Compiling our neural network\n",
    "cnn_model.compile(loss='categorical_crossentropy',\n",
    "                  optimizer='adam',\n",
    "                  metrics=['accuracy'])\n",
    "\n",
    "# Fitting our neural network\n",
    "history = cnn_model.fit(X_train,\n",
    "                        y_train, \n",
    "                        batch_size=16,\n",
    "                        validation_data=(X_test, y_test),\n",
    "                        epochs=15)"
   ]
  },
  {
   "cell_type": "code",
   "execution_count": 24,
   "metadata": {},
   "outputs": [
    {
     "name": "stdout",
     "output_type": "stream",
     "text": [
      "Model: \"cnn_1\"\n",
      "_________________________________________________________________\n",
      "Layer (type)                 Output Shape              Param #   \n",
      "=================================================================\n",
      "conv2d_2 (Conv2D)            (None, 126, 658, 16)      160       \n",
      "_________________________________________________________________\n",
      "max_pooling2d_2 (MaxPooling2 (None, 63, 164, 16)       0         \n",
      "_________________________________________________________________\n",
      "conv2d_3 (Conv2D)            (None, 61, 162, 32)       4640      \n",
      "_________________________________________________________________\n",
      "max_pooling2d_3 (MaxPooling2 (None, 30, 40, 32)        0         \n",
      "_________________________________________________________________\n",
      "flatten_1 (Flatten)          (None, 38400)             0         \n",
      "_________________________________________________________________\n",
      "dense_2 (Dense)              (None, 64)                2457664   \n",
      "_________________________________________________________________\n",
      "dropout_1 (Dropout)          (None, 64)                0         \n",
      "_________________________________________________________________\n",
      "dense_3 (Dense)              (None, 7)                 455       \n",
      "=================================================================\n",
      "Total params: 2,462,919\n",
      "Trainable params: 2,462,919\n",
      "Non-trainable params: 0\n",
      "_________________________________________________________________\n"
     ]
    }
   ],
   "source": [
    "# Checking the model summary\n",
    "cnn_model.summary()"
   ]
  },
  {
   "cell_type": "code",
   "execution_count": 25,
   "metadata": {},
   "outputs": [
    {
     "data": {
      "image/png": "[encoded data removed]",
      "text/plain": [
       "<Figure size 864x576 with 1 Axes>"
      ]
     },
     "metadata": {
      "needs_background": "light"
     },
     "output_type": "display_data"
    }
   ],
   "source": [
    "# The code in this cell was adapted from a lecture at General Assembly\n",
    "\n",
    "# Check out our train loss and test loss over epochs.\n",
    "train_loss = history.history['loss']\n",
    "test_loss = history.history['val_loss']\n",
    "\n",
    "# Set figure size.\n",
    "plt.figure(figsize=(12, 8))\n",
    "\n",
    "# Generate line plot of training, testing loss over epochs.\n",
    "plt.plot(train_loss, label='Training Loss', color='blue')\n",
    "plt.plot(test_loss, label='Testing Loss', color='red')\n",
    "\n",
    "# Set title\n",
    "plt.title('Training and Testing Loss by Epoch', fontsize = 25)\n",
    "plt.xlabel('Epoch', fontsize = 18)\n",
    "plt.ylabel('Categorical Crossentropy', fontsize = 18)\n",
    "plt.xticks(range(1,11), range(1,11))\n",
    "\n",
    "plt.legend(fontsize = 18);"
   ]
  },
  {
   "cell_type": "code",
   "execution_count": 26,
   "metadata": {},
   "outputs": [
    {
     "name": "stdout",
     "output_type": "stream",
     "text": [
      "140/140 [==============================] - 1s 4ms/sample\n"
     ]
    }
   ],
   "source": [
    "# Making predictions from the cnn model\n",
    "predictions = cnn_model.predict(X_test, verbose=1)"
   ]
  },
  {
   "cell_type": "code",
   "execution_count": 27,
   "metadata": {},
   "outputs": [
    {
     "data": {
      "text/plain": [
       "array([[17,  0,  1,  0,  2,  0,  0],\n",
       "       [ 0, 17,  0,  1,  0,  2,  0],\n",
       "       [ 2,  1, 13,  0,  1,  1,  2],\n",
       "       [ 0,  2,  0, 17,  0,  1,  0],\n",
       "       [ 0,  0,  0,  0, 20,  0,  0],\n",
       "       [ 0,  2,  1,  0,  1, 14,  2],\n",
       "       [ 2,  0,  0,  0,  0,  2, 16]])"
      ]
     },
     "execution_count": 27,
     "metadata": {},
     "output_type": "execute_result"
    }
   ],
   "source": [
    "# Calculating the confusion matrix \n",
    "# row: actual\n",
    "# columns: predicted\n",
    "conf_matrix = confusion_matrix(np.argmax(y_test, 1), np.argmax(predictions, 1))\n",
    "conf_matrix"
   ]
  },
  {
   "cell_type": "code",
   "execution_count": 28,
   "metadata": {},
   "outputs": [
    {
     "data": {
      "text/html": [
       "<div>\n",
       "<style scoped>\n",
       "    .dataframe tbody tr th:only-of-type {\n",
       "        vertical-align: middle;\n",
       "    }\n",
       "\n",
       "    .dataframe tbody tr th {\n",
       "        vertical-align: top;\n",
       "    }\n",
       "\n",
       "    .dataframe thead th {\n",
       "        text-align: right;\n",
       "    }\n",
       "</style>\n",
       "<table border=\"1\" class=\"dataframe\">\n",
       "  <thead>\n",
       "    <tr style=\"text-align: right;\">\n",
       "      <th></th>\n",
       "      <th>0</th>\n",
       "      <th>1</th>\n",
       "      <th>2</th>\n",
       "      <th>3</th>\n",
       "      <th>4</th>\n",
       "      <th>5</th>\n",
       "      <th>6</th>\n",
       "    </tr>\n",
       "  </thead>\n",
       "  <tbody>\n",
       "    <tr>\n",
       "      <th>0</th>\n",
       "      <td>17</td>\n",
       "      <td>0</td>\n",
       "      <td>1</td>\n",
       "      <td>0</td>\n",
       "      <td>2</td>\n",
       "      <td>0</td>\n",
       "      <td>0</td>\n",
       "    </tr>\n",
       "    <tr>\n",
       "      <th>1</th>\n",
       "      <td>0</td>\n",
       "      <td>17</td>\n",
       "      <td>0</td>\n",
       "      <td>1</td>\n",
       "      <td>0</td>\n",
       "      <td>2</td>\n",
       "      <td>0</td>\n",
       "    </tr>\n",
       "    <tr>\n",
       "      <th>2</th>\n",
       "      <td>2</td>\n",
       "      <td>1</td>\n",
       "      <td>13</td>\n",
       "      <td>0</td>\n",
       "      <td>1</td>\n",
       "      <td>1</td>\n",
       "      <td>2</td>\n",
       "    </tr>\n",
       "    <tr>\n",
       "      <th>3</th>\n",
       "      <td>0</td>\n",
       "      <td>2</td>\n",
       "      <td>0</td>\n",
       "      <td>17</td>\n",
       "      <td>0</td>\n",
       "      <td>1</td>\n",
       "      <td>0</td>\n",
       "    </tr>\n",
       "    <tr>\n",
       "      <th>4</th>\n",
       "      <td>0</td>\n",
       "      <td>0</td>\n",
       "      <td>0</td>\n",
       "      <td>0</td>\n",
       "      <td>20</td>\n",
       "      <td>0</td>\n",
       "      <td>0</td>\n",
       "    </tr>\n",
       "    <tr>\n",
       "      <th>5</th>\n",
       "      <td>0</td>\n",
       "      <td>2</td>\n",
       "      <td>1</td>\n",
       "      <td>0</td>\n",
       "      <td>1</td>\n",
       "      <td>14</td>\n",
       "      <td>2</td>\n",
       "    </tr>\n",
       "    <tr>\n",
       "      <th>6</th>\n",
       "      <td>2</td>\n",
       "      <td>0</td>\n",
       "      <td>0</td>\n",
       "      <td>0</td>\n",
       "      <td>0</td>\n",
       "      <td>2</td>\n",
       "      <td>16</td>\n",
       "    </tr>\n",
       "  </tbody>\n",
       "</table>\n",
       "</div>"
      ],
      "text/plain": [
       "    0   1   2   3   4   5   6\n",
       "0  17   0   1   0   2   0   0\n",
       "1   0  17   0   1   0   2   0\n",
       "2   2   1  13   0   1   1   2\n",
       "3   0   2   0  17   0   1   0\n",
       "4   0   0   0   0  20   0   0\n",
       "5   0   2   1   0   1  14   2\n",
       "6   2   0   0   0   0   2  16"
      ]
     },
     "execution_count": 28,
     "metadata": {},
     "output_type": "execute_result"
    }
   ],
   "source": [
    "# Creating a dataframe of the confusion matrix with labels for readability \n",
    "confusion_df = pd.DataFrame(conf_matrix)\n",
    "confusion_df"
   ]
  },
  {
   "cell_type": "code",
   "execution_count": 29,
   "metadata": {},
   "outputs": [],
   "source": [
    "# List of a subset of the genres\n",
    "genre_labels = {\n",
    "    0:'jazz',\n",
    "    1:'hiphop',\n",
    "    2:'country',\n",
    "    3:'metal',\n",
    "    4:'classical',\n",
    "    5:'disco',\n",
    "    6:'pop'\n",
    "}"
   ]
  },
  {
   "cell_type": "code",
   "execution_count": 30,
   "metadata": {},
   "outputs": [
    {
     "data": {
      "text/html": [
       "<div>\n",
       "<style scoped>\n",
       "    .dataframe tbody tr th:only-of-type {\n",
       "        vertical-align: middle;\n",
       "    }\n",
       "\n",
       "    .dataframe tbody tr th {\n",
       "        vertical-align: top;\n",
       "    }\n",
       "\n",
       "    .dataframe thead th {\n",
       "        text-align: right;\n",
       "    }\n",
       "</style>\n",
       "<table border=\"1\" class=\"dataframe\">\n",
       "  <thead>\n",
       "    <tr style=\"text-align: right;\">\n",
       "      <th></th>\n",
       "      <th>jazz</th>\n",
       "      <th>hiphop</th>\n",
       "      <th>country</th>\n",
       "      <th>metal</th>\n",
       "      <th>classical</th>\n",
       "      <th>disco</th>\n",
       "      <th>pop</th>\n",
       "    </tr>\n",
       "  </thead>\n",
       "  <tbody>\n",
       "    <tr>\n",
       "      <th>jazz</th>\n",
       "      <td>17</td>\n",
       "      <td>0</td>\n",
       "      <td>1</td>\n",
       "      <td>0</td>\n",
       "      <td>2</td>\n",
       "      <td>0</td>\n",
       "      <td>0</td>\n",
       "    </tr>\n",
       "    <tr>\n",
       "      <th>hiphop</th>\n",
       "      <td>0</td>\n",
       "      <td>17</td>\n",
       "      <td>0</td>\n",
       "      <td>1</td>\n",
       "      <td>0</td>\n",
       "      <td>2</td>\n",
       "      <td>0</td>\n",
       "    </tr>\n",
       "    <tr>\n",
       "      <th>country</th>\n",
       "      <td>2</td>\n",
       "      <td>1</td>\n",
       "      <td>13</td>\n",
       "      <td>0</td>\n",
       "      <td>1</td>\n",
       "      <td>1</td>\n",
       "      <td>2</td>\n",
       "    </tr>\n",
       "    <tr>\n",
       "      <th>metal</th>\n",
       "      <td>0</td>\n",
       "      <td>2</td>\n",
       "      <td>0</td>\n",
       "      <td>17</td>\n",
       "      <td>0</td>\n",
       "      <td>1</td>\n",
       "      <td>0</td>\n",
       "    </tr>\n",
       "    <tr>\n",
       "      <th>classical</th>\n",
       "      <td>0</td>\n",
       "      <td>0</td>\n",
       "      <td>0</td>\n",
       "      <td>0</td>\n",
       "      <td>20</td>\n",
       "      <td>0</td>\n",
       "      <td>0</td>\n",
       "    </tr>\n",
       "    <tr>\n",
       "      <th>disco</th>\n",
       "      <td>0</td>\n",
       "      <td>2</td>\n",
       "      <td>1</td>\n",
       "      <td>0</td>\n",
       "      <td>1</td>\n",
       "      <td>14</td>\n",
       "      <td>2</td>\n",
       "    </tr>\n",
       "    <tr>\n",
       "      <th>pop</th>\n",
       "      <td>2</td>\n",
       "      <td>0</td>\n",
       "      <td>0</td>\n",
       "      <td>0</td>\n",
       "      <td>0</td>\n",
       "      <td>2</td>\n",
       "      <td>16</td>\n",
       "    </tr>\n",
       "  </tbody>\n",
       "</table>\n",
       "</div>"
      ],
      "text/plain": [
       "           jazz  hiphop  country  metal  classical  disco  pop\n",
       "jazz         17       0        1      0          2      0    0\n",
       "hiphop        0      17        0      1          0      2    0\n",
       "country       2       1       13      0          1      1    2\n",
       "metal         0       2        0     17          0      1    0\n",
       "classical     0       0        0      0         20      0    0\n",
       "disco         0       2        1      0          1     14    2\n",
       "pop           2       0        0      0          0      2   16"
      ]
     },
     "execution_count": 30,
     "metadata": {},
     "output_type": "execute_result"
    }
   ],
   "source": [
    "# Renaming rows and columns with labes\n",
    "confusion_df = confusion_df.rename(columns=genre_labels)\n",
    "confusion_df.index = confusion_df.columns\n",
    "confusion_df"
   ]
  },
  {
   "cell_type": "markdown",
   "metadata": {},
   "source": [
    "## CNN 2"
   ]
  },
  {
   "cell_type": "code",
   "execution_count": 273,
   "metadata": {},
   "outputs": [],
   "source": [
    "# List of a subset of the genres\n",
    "genre_subset_2 = [\n",
    "    'jazz',\n",
    "    'reggae',\n",
    "    'hiphop',\n",
    "    'metal',\n",
    "    'classical'\n",
    "]"
   ]
  },
  {
   "cell_type": "code",
   "execution_count": 270,
   "metadata": {},
   "outputs": [],
   "source": [
    "# Using our function to get our features and targets\n",
    "X_train, X_test, y_train, y_test = preprocess_mel_spec_data(mel_specs, genre_subset_2)"
   ]
  },
  {
   "cell_type": "code",
   "execution_count": 275,
   "metadata": {},
   "outputs": [
    {
     "name": "stdout",
     "output_type": "stream",
     "text": [
      "Train on 375 samples, validate on 125 samples\n",
      "Epoch 1/15\n",
      "375/375 [==============================] - 6s 17ms/sample - loss: 1.6159 - accuracy: 0.1707 - val_loss: 1.5973 - val_accuracy: 0.1920\n",
      "Epoch 2/15\n",
      "375/375 [==============================] - 6s 15ms/sample - loss: 1.5868 - accuracy: 0.1760 - val_loss: 1.5793 - val_accuracy: 0.3680\n",
      "Epoch 3/15\n",
      "375/375 [==============================] - 6s 16ms/sample - loss: 1.5398 - accuracy: 0.2693 - val_loss: 1.6118 - val_accuracy: 0.2000\n",
      "Epoch 4/15\n",
      "375/375 [==============================] - 6s 16ms/sample - loss: 1.5976 - accuracy: 0.2107 - val_loss: 1.5150 - val_accuracy: 0.3200\n",
      "Epoch 5/15\n",
      "375/375 [==============================] - 6s 17ms/sample - loss: 1.4873 - accuracy: 0.3520 - val_loss: 1.3978 - val_accuracy: 0.5280\n",
      "Epoch 6/15\n",
      "375/375 [==============================] - 6s 16ms/sample - loss: 1.3230 - accuracy: 0.4427 - val_loss: 1.1736 - val_accuracy: 0.5360\n",
      "Epoch 7/15\n",
      "375/375 [==============================] - 6s 16ms/sample - loss: 1.1594 - accuracy: 0.4613 - val_loss: 1.0977 - val_accuracy: 0.5040\n",
      "Epoch 8/15\n",
      "375/375 [==============================] - 6s 16ms/sample - loss: 1.0342 - accuracy: 0.5493 - val_loss: 0.9483 - val_accuracy: 0.6320\n",
      "Epoch 9/15\n",
      "375/375 [==============================] - 6s 16ms/sample - loss: 0.9405 - accuracy: 0.6027 - val_loss: 0.8482 - val_accuracy: 0.6480\n",
      "Epoch 10/15\n",
      "375/375 [==============================] - 6s 15ms/sample - loss: 0.9951 - accuracy: 0.6053 - val_loss: 0.8038 - val_accuracy: 0.6720\n",
      "Epoch 11/15\n",
      "375/375 [==============================] - 6s 16ms/sample - loss: 0.8410 - accuracy: 0.6560 - val_loss: 0.7752 - val_accuracy: 0.7120\n",
      "Epoch 12/15\n",
      "375/375 [==============================] - 6s 16ms/sample - loss: 0.7590 - accuracy: 0.7200 - val_loss: 0.7712 - val_accuracy: 0.6800\n",
      "Epoch 13/15\n",
      "375/375 [==============================] - 6s 16ms/sample - loss: 0.8040 - accuracy: 0.6880 - val_loss: 0.7390 - val_accuracy: 0.7440\n",
      "Epoch 14/15\n",
      "375/375 [==============================] - 6s 16ms/sample - loss: 0.8753 - accuracy: 0.6507 - val_loss: 0.6900 - val_accuracy: 0.7520\n",
      "Epoch 15/15\n",
      "375/375 [==============================] - 6s 15ms/sample - loss: 0.7539 - accuracy: 0.7413 - val_loss: 0.6712 - val_accuracy: 0.7280\n"
     ]
    }
   ],
   "source": [
    "# Initiating an empty neural network\n",
    "cnn_model_2 = Sequential(name='cnn_2')\n",
    "\n",
    "# Adding convolutional layer\n",
    "cnn_model_2.add(Conv2D(filters=8,\n",
    "                     kernel_size=(6,6),\n",
    "                     padding='same',\n",
    "                     activation='relu',\n",
    "                     input_shape=(128,660,1)))\n",
    "\n",
    "# Adding max pooling layer\n",
    "cnn_model_2.add(MaxPooling2D(pool_size=(20,20)))\n",
    "\n",
    "# Adding convolutional layer\n",
    "cnn_model_2.add(Conv2D(16,\n",
    "                     kernel_size=(6,6),\n",
    "                     padding='same',\n",
    "                     activation='relu'))\n",
    "\n",
    "# Adding max pooling layer\n",
    "cnn_model_2.add(MaxPooling2D(pool_size=(2,2)))\n",
    "\n",
    "# Adding a flattened layer to input our image data\n",
    "cnn_model_2.add(Flatten())\n",
    "              \n",
    "# Adding a dense layer with 256 neurons\n",
    "cnn_model_2.add(Dense(256, activation='relu'))\n",
    "\n",
    "# Adding a dropout layer for regularization\n",
    "cnn_model_2.add(Dropout(0.5))\n",
    "\n",
    "# Adding a dense layer with 64 neurons\n",
    "cnn_model_2.add(Dense(64, activation='relu'))\n",
    "\n",
    "# Adding a dropout layer for regularization\n",
    "cnn_model_2.add(Dropout(0.5))\n",
    "\n",
    "# Adding an output layer\n",
    "cnn_model_2.add(Dense(5, activation='softmax'))\n",
    "\n",
    "# Compiling our neural network\n",
    "cnn_model_2.compile(loss='categorical_crossentropy',\n",
    "                  optimizer='adam',\n",
    "                  metrics=['accuracy'])\n",
    "\n",
    "# Fitting our neural network\n",
    "history = cnn_model_2.fit(X_train,\n",
    "                          y_train, \n",
    "                          batch_size=16,\n",
    "                          validation_data=(X_test, y_test),\n",
    "                          epochs=20)"
   ]
  },
  {
   "cell_type": "code",
   "execution_count": 276,
   "metadata": {},
   "outputs": [
    {
     "name": "stdout",
     "output_type": "stream",
     "text": [
      "Model: \"cnn_2\"\n",
      "_________________________________________________________________\n",
      "Layer (type)                 Output Shape              Param #   \n",
      "=================================================================\n",
      "conv2d_42 (Conv2D)           (None, 128, 660, 8)       296       \n",
      "_________________________________________________________________\n",
      "max_pooling2d_42 (MaxPooling (None, 6, 33, 8)          0         \n",
      "_________________________________________________________________\n",
      "conv2d_43 (Conv2D)           (None, 6, 33, 16)         4624      \n",
      "_________________________________________________________________\n",
      "max_pooling2d_43 (MaxPooling (None, 3, 16, 16)         0         \n",
      "_________________________________________________________________\n",
      "flatten_21 (Flatten)         (None, 768)               0         \n",
      "_________________________________________________________________\n",
      "dense_57 (Dense)             (None, 256)               196864    \n",
      "_________________________________________________________________\n",
      "dropout_36 (Dropout)         (None, 256)               0         \n",
      "_________________________________________________________________\n",
      "dense_58 (Dense)             (None, 64)                16448     \n",
      "_________________________________________________________________\n",
      "dropout_37 (Dropout)         (None, 64)                0         \n",
      "_________________________________________________________________\n",
      "dense_59 (Dense)             (None, 5)                 325       \n",
      "=================================================================\n",
      "Total params: 218,557\n",
      "Trainable params: 218,557\n",
      "Non-trainable params: 0\n",
      "_________________________________________________________________\n"
     ]
    }
   ],
   "source": [
    "# Checking the model summary\n",
    "cnn_model_2.summary()"
   ]
  },
  {
   "cell_type": "code",
   "execution_count": 277,
   "metadata": {},
   "outputs": [
    {
     "data": {
      "image/png": "[encoded data removed]",
      "text/plain": [
       "<Figure size 864x576 with 1 Axes>"
      ]
     },
     "metadata": {
      "needs_background": "light"
     },
     "output_type": "display_data"
    }
   ],
   "source": [
    "# The code in this cell was adapted from a lecture at General Assembly\n",
    "\n",
    "# Check out our train loss and test loss over epochs.\n",
    "train_loss = history.history['loss']\n",
    "test_loss = history.history['val_loss']\n",
    "\n",
    "# Set figure size.\n",
    "plt.figure(figsize=(12, 8))\n",
    "\n",
    "# Generate line plot of training, testing loss over epochs.\n",
    "plt.plot(train_loss, label='Training Loss', color='blue')\n",
    "plt.plot(test_loss, label='Testing Loss', color='red')\n",
    "\n",
    "# Set title\n",
    "plt.title('Training and Testing Loss by Epoch', fontsize = 25)\n",
    "plt.xlabel('Epoch', fontsize = 18)\n",
    "plt.ylabel('Categorical Crossentropy', fontsize = 18)\n",
    "plt.xticks(range(1,11), range(1,11))\n",
    "\n",
    "plt.legend(fontsize = 18);"
   ]
  },
  {
   "cell_type": "code",
   "execution_count": 278,
   "metadata": {},
   "outputs": [
    {
     "name": "stdout",
     "output_type": "stream",
     "text": [
      "125/125 [==============================] - 0s 4ms/sample\n"
     ]
    }
   ],
   "source": [
    "# Making predictions from the cnn model\n",
    "predictions_2 = cnn_model_2.predict(X_test, verbose=1)"
   ]
  },
  {
   "cell_type": "code",
   "execution_count": 279,
   "metadata": {},
   "outputs": [
    {
     "data": {
      "text/plain": [
       "array([[15,  1,  0,  0,  9],\n",
       "       [ 2, 19,  2,  0,  2],\n",
       "       [ 0, 10, 13,  2,  0],\n",
       "       [ 2,  1,  3, 19,  0],\n",
       "       [ 0,  0,  0,  0, 25]])"
      ]
     },
     "execution_count": 279,
     "metadata": {},
     "output_type": "execute_result"
    }
   ],
   "source": [
    "# Calculating the confusion matrix \n",
    "# row: actual\n",
    "# columns: predicted\n",
    "conf_matrix_2 = confusion_matrix(np.argmax(y_test, 1), np.argmax(predictions_2, 1))\n",
    "conf_matrix_2"
   ]
  },
  {
   "cell_type": "code",
   "execution_count": 280,
   "metadata": {},
   "outputs": [],
   "source": [
    "# Creating a dataframe of the confusion matrix with labels for readability \n",
    "confusion_df_2 = pd.DataFrame(conf_matrix_2)"
   ]
  },
  {
   "cell_type": "code",
   "execution_count": 281,
   "metadata": {},
   "outputs": [],
   "source": [
    "# List of a subset of the genres\n",
    "genre_labels_2 = {\n",
    "    0:'jazz',\n",
    "    1:'reggae',\n",
    "    2:'rock',\n",
    "    3:'hiphop',\n",
    "    4:'metal',\n",
    "    5:'classical'\n",
    "}"
   ]
  },
  {
   "cell_type": "code",
   "execution_count": 282,
   "metadata": {},
   "outputs": [
    {
     "data": {
      "text/html": [
       "<div>\n",
       "<style scoped>\n",
       "    .dataframe tbody tr th:only-of-type {\n",
       "        vertical-align: middle;\n",
       "    }\n",
       "\n",
       "    .dataframe tbody tr th {\n",
       "        vertical-align: top;\n",
       "    }\n",
       "\n",
       "    .dataframe thead th {\n",
       "        text-align: right;\n",
       "    }\n",
       "</style>\n",
       "<table border=\"1\" class=\"dataframe\">\n",
       "  <thead>\n",
       "    <tr style=\"text-align: right;\">\n",
       "      <th></th>\n",
       "      <th>jazz</th>\n",
       "      <th>reggae</th>\n",
       "      <th>rock</th>\n",
       "      <th>hiphop</th>\n",
       "      <th>metal</th>\n",
       "    </tr>\n",
       "  </thead>\n",
       "  <tbody>\n",
       "    <tr>\n",
       "      <th>jazz</th>\n",
       "      <td>15</td>\n",
       "      <td>1</td>\n",
       "      <td>0</td>\n",
       "      <td>0</td>\n",
       "      <td>9</td>\n",
       "    </tr>\n",
       "    <tr>\n",
       "      <th>reggae</th>\n",
       "      <td>2</td>\n",
       "      <td>19</td>\n",
       "      <td>2</td>\n",
       "      <td>0</td>\n",
       "      <td>2</td>\n",
       "    </tr>\n",
       "    <tr>\n",
       "      <th>rock</th>\n",
       "      <td>0</td>\n",
       "      <td>10</td>\n",
       "      <td>13</td>\n",
       "      <td>2</td>\n",
       "      <td>0</td>\n",
       "    </tr>\n",
       "    <tr>\n",
       "      <th>hiphop</th>\n",
       "      <td>2</td>\n",
       "      <td>1</td>\n",
       "      <td>3</td>\n",
       "      <td>19</td>\n",
       "      <td>0</td>\n",
       "    </tr>\n",
       "    <tr>\n",
       "      <th>metal</th>\n",
       "      <td>0</td>\n",
       "      <td>0</td>\n",
       "      <td>0</td>\n",
       "      <td>0</td>\n",
       "      <td>25</td>\n",
       "    </tr>\n",
       "  </tbody>\n",
       "</table>\n",
       "</div>"
      ],
      "text/plain": [
       "        jazz  reggae  rock  hiphop  metal\n",
       "jazz      15       1     0       0      9\n",
       "reggae     2      19     2       0      2\n",
       "rock       0      10    13       2      0\n",
       "hiphop     2       1     3      19      0\n",
       "metal      0       0     0       0     25"
      ]
     },
     "execution_count": 282,
     "metadata": {},
     "output_type": "execute_result"
    }
   ],
   "source": [
    "# Renaming rows and columns with labes\n",
    "confusion_df_2 = confusion_df_2.rename(columns=genre_labels_2)\n",
    "confusion_df_2.index = confusion_df_2.columns\n",
    "confusion_df_2"
   ]
  },
  {
   "cell_type": "code",
   "execution_count": 32,
   "metadata": {},
   "outputs": [
    {
     "data": {
      "text/plain": [
       "28.000000000000004"
      ]
     },
     "execution_count": 32,
     "metadata": {},
     "output_type": "execute_result"
    }
   ],
   "source": [
    "7/25*100"
   ]
  },
  {
   "cell_type": "code",
   "execution_count": 33,
   "metadata": {},
   "outputs": [
    {
     "data": {
      "text/plain": [
       "53.84615384615385"
      ]
     },
     "execution_count": 33,
     "metadata": {},
     "output_type": "execute_result"
    }
   ],
   "source": [
    "7/13*100"
   ]
  },
  {
   "cell_type": "code",
   "execution_count": null,
   "metadata": {},
   "outputs": [],
   "source": []
  }
 ],
 "metadata": {
  "kernelspec": {
   "display_name": "Python 3",
   "language": "python",
   "name": "python3"
  },
  "language_info": {
   "codemirror_mode": {
    "name": "ipython",
    "version": 3
   },
   "file_extension": ".py",
   "mimetype": "text/x-python",
   "name": "python",
   "nbconvert_exporter": "python",
   "pygments_lexer": "ipython3",
   "version": "3.7.4"
  }
 },
 "nbformat": 4,
 "nbformat_minor": 2
}
